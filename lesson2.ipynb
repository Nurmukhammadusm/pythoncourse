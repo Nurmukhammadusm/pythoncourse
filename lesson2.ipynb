{
 "cells": [
  {
   "cell_type": "code",
   "execution_count": 19,
   "metadata": {},
   "outputs": [
    {
     "name": "stdout",
     "output_type": "stream",
     "text": [
      "we have 2 types of visa for students.\n",
      "First Studying visa for students who want to sutdy abroad\n",
      "Second tpye for students who want to working and practicing  .\n",
      "USMONOV USMONOV USMONOV USMONOV USMONOV \n",
      "NUR\n",
      "\t  \n",
      "\t  MUKHAMMAD\n"
     ]
    }
   ],
   "source": [
    "print(\"we have 2 types of visa for students.\")\n",
    "visa1 = 'Studying'\n",
    "visa2='working and practicing'\n",
    "print(\"First {} visa for students who want to sutdy abroad\".format(visa1))\n",
    "print(\"Second tpye for students who want to {}  .\".format(visa2))\n",
    "print('USMONOV '*5)\n",
    "end1 = \"N\"\n",
    "end2 = \"U\"\n",
    "end3 = \"R\"\n",
    "end4 = \"M\"\n",
    "end5 = \"U\"\n",
    "end6 = \"K\"\n",
    "end7 = \"H\"\n",
    "end8 = \"A\"\n",
    "end9 = \"M\"\n",
    "end10 = \"M\"\n",
    "end11 = \"A\"\n",
    "end12 = \"D\"\n",
    "\n",
    "\n",
    "print(end1 + end2 + end3  ,end=\"\\n\\t  \"*2)  \n",
    "print(end4 + end5 + end6 + end7 + end8 + end9 + end10 + end11 + end12)\n"
   ]
  },
  {
   "cell_type": "code",
   "execution_count": 10,
   "metadata": {},
   "outputs": [
    {
     "name": "stdout",
     "output_type": "stream",
     "text": [
      "\tMy biography.\n",
      "I'm 20\n",
      " years old.\n",
      "I'm \\ a \\ student.\n",
      "\n",
      "I'll do a planning list:\n",
      "\t*Traveling   \n",
      "\t\taround the world\n",
      "\t* Studying \n",
      "\t\t in the USA\n",
      "\t* Creating\n",
      "\t \tmy own business\n",
      "\n"
     ]
    }
   ],
   "source": [
    "about_me= \"\\tMy biography.\"\n",
    "age= \"I'm 20\\n years old.\"\n",
    "student= \"I'm \\\\ a \\\\ student.\"\n",
    "\n",
    "plans= \"\"\"\n",
    "I'll do a planning list:\n",
    "\\t*Traveling   \\n\\t\\taround the world\n",
    "\\t* Studying \\n\\t\\t in the USA\n",
    "\\t* Creating\\n\\t \\tmy own business\n",
    "\"\"\"\n",
    "\n",
    "print(about_me)\n",
    "print(age)\n",
    "print(student)\n",
    "print(plans)"
   ]
  },
  {
   "cell_type": "code",
   "execution_count": 9,
   "metadata": {},
   "outputs": [
    {
     "name": "stdout",
     "output_type": "stream",
     "text": [
      "Hey! What's your name ? Nurmukhammad\n",
      "How tall are you in cm? 178\n",
      "How much do you weigh in kg?80\n",
      "So, you're Nurmukhammad , 178 cm tall and 80 kg heavy.\n"
     ]
    }
   ],
   "source": [
    "print(\"Hey! What's your name ?\", end=' ')\n",
    "name = input()\n",
    "print(\"How tall are you in cm?\", end=' ')\n",
    "height = input()\n",
    "print(\"How much do you weigh in kg?\", end='')\n",
    "weight = input()\n",
    "\n",
    "print(f\"So, you're {name} , {height} cm tall and {weight} kg heavy.\")"
   ]
  },
  {
   "cell_type": "code",
   "execution_count": 8,
   "metadata": {},
   "outputs": [
    {
     "name": "stdout",
     "output_type": "stream",
     "text": [
      "name: Nurmukhammad, surename: Usmonov\n",
      "your name : Usmonov, your surename: Nurmukammad\n",
      "My university: Westminster\n",
      "that's all \n"
     ]
    }
   ],
   "source": [
    "def print_fullname(*args):\n",
    "    name, surename = args\n",
    "    print(f\"name: {name}, surename: {surename}\")\n",
    "\n",
    "def print_two_again(arg1, arg2):\n",
    "    print(f\"your name : {arg1}, your surename: {arg2}\")\n",
    "\n",
    "def my_university(university):\n",
    "    print(f\"My university: {university}\")\n",
    "\n",
    "def print_none():\n",
    "    print(\"that's all \")\n",
    "\n",
    "print_fullname(\"Nurmukhammad\",\"Usmonov\")\n",
    "print_two_again(\"Usmonov\",\"Nurmukammad\")\n",
    "my_university(\"Westminster\")\n",
    "print_none()"
   ]
  },
  {
   "cell_type": "code",
   "execution_count": 6,
   "metadata": {},
   "outputs": [
    {
     "name": "stdout",
     "output_type": "stream",
     "text": [
      "what is your name ? \n",
      "Input your name below:Nurmukhammad\n",
      "your_name\n"
     ]
    }
   ],
   "source": [
    "your_name = input(\"what is your name ? \\nInput your name below:\")\n",
    "print(\"your_name\")"
   ]
  },
  {
   "cell_type": "code",
   "execution_count": null,
   "metadata": {},
   "outputs": [],
   "source": []
  }
 ],
 "metadata": {
  "kernelspec": {
   "display_name": "Python 3",
   "language": "python",
   "name": "python3"
  },
  "language_info": {
   "codemirror_mode": {
    "name": "ipython",
    "version": 3
   },
   "file_extension": ".py",
   "mimetype": "text/x-python",
   "name": "python",
   "nbconvert_exporter": "python",
   "pygments_lexer": "ipython3",
   "version": "3.8.5"
  }
 },
 "nbformat": 4,
 "nbformat_minor": 4
}
